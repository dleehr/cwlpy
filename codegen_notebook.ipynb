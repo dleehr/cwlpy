{
 "cells": [
  {
   "cell_type": "code",
   "execution_count": 1,
   "metadata": {},
   "outputs": [],
   "source": [
    "import cwl_schema"
   ]
  },
  {
   "cell_type": "code",
   "execution_count": 188,
   "metadata": {},
   "outputs": [],
   "source": [
    "# Read in a tool\n",
    "denoise_tool_file = '/Users/dcl9/Code/yaml/bespin-cwl/tools/qiime2/dada2-denoise-single.cwl'\n",
    "denoise_tool = cwl_schema.load_document(denoise_tool_file)"
   ]
  },
  {
   "cell_type": "code",
   "execution_count": 10,
   "metadata": {},
   "outputs": [
    {
     "data": {
      "text/plain": [
       "['qiime', 'dada2', 'denoise-single']"
      ]
     },
     "execution_count": 10,
     "metadata": {},
     "output_type": "execute_result"
    }
   ],
   "source": [
    "denoise_tool.baseCommand"
   ]
  },
  {
   "cell_type": "code",
   "execution_count": 26,
   "metadata": {},
   "outputs": [
    {
     "name": "stdout",
     "output_type": "stream",
     "text": [
      "file:///Users/dcl9/Code/yaml/bespin-cwl/tools/qiime2/dada2-denoise-single.cwl#demultiplexed_seqs\n",
      "file:///Users/dcl9/Code/yaml/bespin-cwl/tools/qiime2/dada2-denoise-single.cwl#denoising_stats_filename\n",
      "file:///Users/dcl9/Code/yaml/bespin-cwl/tools/qiime2/dada2-denoise-single.cwl#representative_sequences_filename\n",
      "file:///Users/dcl9/Code/yaml/bespin-cwl/tools/qiime2/dada2-denoise-single.cwl#table_filename\n",
      "file:///Users/dcl9/Code/yaml/bespin-cwl/tools/qiime2/dada2-denoise-single.cwl#trim_left\n",
      "file:///Users/dcl9/Code/yaml/bespin-cwl/tools/qiime2/dada2-denoise-single.cwl#trunc_len\n"
     ]
    }
   ],
   "source": [
    "# Enumerating over the inputs, the IDs are absolute.\n",
    "for inp in denoise_tool.inputs:\n",
    "    print(inp.id)"
   ]
  },
  {
   "cell_type": "code",
   "execution_count": 24,
   "metadata": {},
   "outputs": [
    {
     "name": "stdout",
     "output_type": "stream",
     "text": [
      "denoising_stats\n",
      "representative_sequences\n",
      "table\n"
     ]
    }
   ],
   "source": [
    "# Same with the outputs\n",
    "for out in denoise_tool.outputs:\n",
    "    print(out.id.split('#')[-1])"
   ]
  },
  {
   "cell_type": "code",
   "execution_count": 38,
   "metadata": {
    "scrolled": true
   },
   "outputs": [
    {
     "name": "stdout",
     "output_type": "stream",
     "text": [
      "baseCommand: [qiime, dada2, denoise-single]\n",
      "class: CommandLineTool\n",
      "cwlVersion: v1.0\n",
      "hints:\n",
      "- !!python/object/apply:ruamel.yaml.comments.CommentedMap\n",
      "  dictitems: {class: DockerRequirement, dockerPull: qiime2/core:2018.4}\n",
      "  state:\n",
      "    _yaml_format: !!python/object/new:ruamel.yaml.comments.Format\n",
      "      state: !!python/tuple\n",
      "      - null\n",
      "      - {_flow_style: false}\n",
      "    _yaml_line_col: !!python/object:ruamel.yaml.comments.LineCol\n",
      "      col: 0\n",
      "      data:\n",
      "        class: [0, 0, 0, 7]\n",
      "        dockerPull: [2, 0, 2, 13]\n",
      "      filename: ../../yaml/bespin-cwl/tools/qiime2/qiime2-docker-hint.yml\n",
      "      line: 0\n",
      "id: file:///Users/dcl9/Code/yaml/bespin-cwl/tools/qiime2/dada2-denoise-single.cwl\n",
      "inputs:\n",
      "- id: file:///Users/dcl9/Code/yaml/bespin-cwl/tools/qiime2/dada2-denoise-single.cwl#demultiplexed_seqs\n",
      "  inputBinding: {prefix: --i-demultiplexed-seqs}\n",
      "  label: single-end demultiplexed sequences to be denoised\n",
      "  type: File\n",
      "- id: file:///Users/dcl9/Code/yaml/bespin-cwl/tools/qiime2/dada2-denoise-single.cwl#denoising_stats_filename\n",
      "  inputBinding: {prefix: --o-denoising-stats}\n",
      "  label: denoising stats filename\n",
      "  type: string\n",
      "- id: file:///Users/dcl9/Code/yaml/bespin-cwl/tools/qiime2/dada2-denoise-single.cwl#representative_sequences_filename\n",
      "  inputBinding: {prefix: --o-representative-sequences}\n",
      "  label: resulting feature sequences filename\n",
      "  type: string\n",
      "- id: file:///Users/dcl9/Code/yaml/bespin-cwl/tools/qiime2/dada2-denoise-single.cwl#table_filename\n",
      "  inputBinding: {prefix: --o-table}\n",
      "  label: resulting feature table filename\n",
      "  type: string\n",
      "- id: file:///Users/dcl9/Code/yaml/bespin-cwl/tools/qiime2/dada2-denoise-single.cwl#trim_left\n",
      "  inputBinding: {prefix: --p-trim-left}\n",
      "  label: position at which sequences should be trimmed due to low quality (from 5'\n",
      "    end)\n",
      "  type: int\n",
      "- id: file:///Users/dcl9/Code/yaml/bespin-cwl/tools/qiime2/dada2-denoise-single.cwl#trunc_len\n",
      "  inputBinding: {prefix: --p-trunc-len}\n",
      "  label: position at which sequences should be truncated due to decrease in quality\n",
      "    (from 3' end)\n",
      "  type: int\n",
      "label: 'qiime2: Denoises single-end sequences, dereplicates them, and filters chimeras'\n",
      "outputs:\n",
      "- id: file:///Users/dcl9/Code/yaml/bespin-cwl/tools/qiime2/dada2-denoise-single.cwl#denoising_stats\n",
      "  outputBinding: {glob: $(inputs.denoising_stats_filename)}\n",
      "  type: File\n",
      "- id: file:///Users/dcl9/Code/yaml/bespin-cwl/tools/qiime2/dada2-denoise-single.cwl#representative_sequences\n",
      "  outputBinding: {glob: $(inputs.representative_sequences_filename)}\n",
      "  type: File\n",
      "- id: file:///Users/dcl9/Code/yaml/bespin-cwl/tools/qiime2/dada2-denoise-single.cwl#table\n",
      "  outputBinding: {glob: $(inputs.table_filename)}\n",
      "  type: File\n",
      "\n"
     ]
    }
   ],
   "source": [
    "# Serializing out to YAML, but need some special sauce to simplify the output\n",
    "from  ruamel import yaml\n",
    "print(yaml.dump(denoise_tool.save()))"
   ]
  },
  {
   "cell_type": "code",
   "execution_count": 39,
   "metadata": {},
   "outputs": [],
   "source": [
    "# Load in second tool\n",
    "visualize_tool_file = '/Users/dcl9/Code/yaml/bespin-cwl/tools/qiime2/metadata-tabulate.cwl'\n",
    "visualize_tool = cwl_schema.load_document(visualize_tool_file)"
   ]
  },
  {
   "cell_type": "code",
   "execution_count": 183,
   "metadata": {},
   "outputs": [
    {
     "ename": "TypeError",
     "evalue": "__init__() missing 3 required positional arguments: '_doc', 'baseuri', and 'loadingOptions'",
     "output_type": "error",
     "traceback": [
      "\u001b[0;31m---------------------------------------------------------------------------\u001b[0m",
      "\u001b[0;31mTypeError\u001b[0m                                 Traceback (most recent call last)",
      "\u001b[0;32m<ipython-input-183-17dad05bed51>\u001b[0m in \u001b[0;36m<module>\u001b[0;34m()\u001b[0m\n\u001b[0;32m----> 1\u001b[0;31m \u001b[0mworkflow\u001b[0m \u001b[0;34m=\u001b[0m \u001b[0mcwl_schema\u001b[0m\u001b[0;34m.\u001b[0m\u001b[0mWorkflow\u001b[0m\u001b[0;34m(\u001b[0m\u001b[0;34m)\u001b[0m\u001b[0;34m\u001b[0m\u001b[0m\n\u001b[0m",
      "\u001b[0;31mTypeError\u001b[0m: __init__() missing 3 required positional arguments: '_doc', 'baseuri', and 'loadingOptions'"
     ]
    }
   ],
   "source": [
    "workflow = cwl_schema.Workflow()"
   ]
  },
  {
   "cell_type": "code",
   "execution_count": 184,
   "metadata": {},
   "outputs": [],
   "source": []
  },
  {
   "cell_type": "code",
   "execution_count": 186,
   "metadata": {},
   "outputs": [
    {
     "name": "stdout",
     "output_type": "stream",
     "text": [
      "{'class': 'Workflow',\n",
      " 'cwlVersion': 'v1.0',\n",
      " 'hints': [],\n",
      " 'id': 'myworkflow',\n",
      " 'inputs': [{'id': 'workflow-input'}],\n",
      " 'outputs': [{'id': 'workflow-output', 'outputSource': 'mystep/step-output'}],\n",
      " 'requirements': [],\n",
      " 'steps': [{'hints': [],\n",
      "            'id': 'mystep',\n",
      "            'in': [{'id': 'step-input', 'source': {'id': 'workflow-input'}}],\n",
      "            'out': [{'id': 'step-output'}],\n",
      "            'requirements': [],\n",
      "            'run': 'some-tool.cwl'}]}\n"
     ]
    }
   ],
   "source": [
    "from cwlpy import *\n",
    "import pprint\n",
    "\n",
    "workflow = MutableWorkflow('myworkflow')\n",
    "step = MutableWorkflowStep('mystep')\n",
    "step.set_run('some-tool.cwl')\n",
    "tool = load_document()\n",
    "workflow.add_step(step)\n",
    "connection = WorkflowStepConnection(workflow, step)\n",
    "connection.connect_workflow_input('workflow-input', 'step-input')\n",
    "connection.connect_workflow_output('workflow-output', 'step-output')\n",
    "pprint.pprint(workflow.save())\n"
   ]
  },
  {
   "cell_type": "code",
   "execution_count": null,
   "metadata": {},
   "outputs": [],
   "source": []
  }
 ],
 "metadata": {
  "kernelspec": {
   "display_name": "Python 3",
   "language": "python",
   "name": "python3"
  },
  "language_info": {
   "codemirror_mode": {
    "name": "ipython",
    "version": 3
   },
   "file_extension": ".py",
   "mimetype": "text/x-python",
   "name": "python",
   "nbconvert_exporter": "python",
   "pygments_lexer": "ipython3",
   "version": "3.6.4"
  }
 },
 "nbformat": 4,
 "nbformat_minor": 2
}
