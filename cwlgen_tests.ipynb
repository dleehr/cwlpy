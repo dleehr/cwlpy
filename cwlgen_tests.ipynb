{
 "cells": [
  {
   "cell_type": "code",
   "execution_count": 1,
   "metadata": {},
   "outputs": [],
   "source": [
    "denoise_tool_file = '/Users/dcl9/Code/yaml/bespin-cwl/tools/qiime2/dada2-denoise-single.cwl'\n",
    "visualize_tool_file = '/Users/dcl9/Code/yaml/bespin-cwl/tools/qiime2/metadata-tabulate.cwl'"
   ]
  },
  {
   "cell_type": "code",
   "execution_count": 7,
   "metadata": {},
   "outputs": [
    {
     "name": "stderr",
     "output_type": "stream",
     "text": [
      "WARNING:cwlgen:CWL version None is not recognized as a valid version.\n",
      "WARNING:cwlgen:CWL version is set up to v1.0.\n",
      "WARNING:cwlgen:CWL version None is not recognized as a valid version.\n",
      "WARNING:cwlgen:CWL version is set up to v1.0.\n"
     ]
    }
   ],
   "source": [
    "from cwlgen.import_cwl import parse_cwl\n",
    "denoise_tool = parse_cwl(denoise_tool_file)\n",
    "visualize_tool = parse_cwl(visualize_tool_file)"
   ]
  },
  {
   "cell_type": "code",
   "execution_count": 9,
   "metadata": {
    "scrolled": true
   },
   "outputs": [],
   "source": [
    "def print_inputs_outputs(tool):\n",
    "    print('inputs:')\n",
    "    for inp in tool.inputs:\n",
    "        print('\\t', inp.id, '(', inp.type, ')')\n",
    "    print('outputs:')\n",
    "    for out in tool.outputs:\n",
    "        print('\\t', out.id, '(', out.type, ')')"
   ]
  },
  {
   "cell_type": "code",
   "execution_count": 11,
   "metadata": {},
   "outputs": [
    {
     "name": "stdout",
     "output_type": "stream",
     "text": [
      "inputs:\n",
      "\t demultiplexed_seqs ( File )\n",
      "\t trim_left ( int )\n",
      "\t trunc_len ( int )\n",
      "\t representative_sequences_filename ( string )\n",
      "\t table_filename ( string )\n",
      "\t denoising_stats_filename ( string )\n",
      "outputs:\n",
      "\t representative_sequences ( File )\n",
      "\t table ( File )\n",
      "\t denoising_stats ( File )\n",
      "inputs:\n",
      "\t input_file ( File )\n",
      "\t visualization_filename ( string )\n",
      "outputs:\n",
      "\t visualization_artifact ( File )\n"
     ]
    }
   ],
   "source": [
    "print_inputs_outputs(denoise_tool)\n",
    "print_inputs_outputs(visualize_tool)"
   ]
  },
  {
   "cell_type": "code",
   "execution_count": null,
   "metadata": {},
   "outputs": [],
   "source": [
    "# Use case: Connect two tools as steps in a workflow and write out the workflow"
   ]
  },
  {
   "cell_type": "code",
   "execution_count": 39,
   "metadata": {},
   "outputs": [
    {
     "name": "stdout",
     "output_type": "stream",
     "text": [
      "#!/usr/bin/env cwl-runner\n",
      "\n",
      "class: Workflow\n",
      "cwlVersion: v1.0\n",
      "inputs:\n",
      "  demultiplexed_seqs: {id: demultiplexed_seqs, type: File}\n",
      "outputs:\n",
      "  denoise_denoising_stats: {id: denoise_denoising_stats, outputSource: denoise/denoising_stats,\n",
      "    type: File}\n",
      "steps:\n",
      "  denoise:\n",
      "    id: denoise\n",
      "    in: {demultiplexed_seqs: demultiplexed_seqs}\n",
      "    out: [representative_sequences, table, denoising_stats]\n",
      "    run: /Users/dcl9/Code/yaml/bespin-cwl/tools/qiime2/dada2-denoise-single.cwl\n",
      "\n"
     ]
    }
   ],
   "source": [
    "import cwlgen\n",
    "from cwlgen.workflow import Workflow, InputParameter\n",
    "dada2_workflow = Workflow()\n",
    "\n",
    "denoise_step = dada2_workflow.add('denoise', denoise_tool, {\n",
    "    'demultiplexed_seqs': cwlgen.File('demultiplexed_seqs'),\n",
    "    'trim_left': InputParameter('trim_left', param_type='int'),\n",
    "})\n",
    "\n",
    "denoise_step['denoising_stats'].store()\n",
    "\n",
    "dada2_workflow.export()"
   ]
  },
  {
   "cell_type": "code",
   "execution_count": 27,
   "metadata": {},
   "outputs": [
    {
     "name": "stdout",
     "output_type": "stream",
     "text": [
      "#!/usr/bin/env cwl-runner\n",
      "\n",
      "class: Workflow\n",
      "cwlVersion: v1.0\n",
      "inputs:\n",
      "  demultiplexed_seqs: {id: demultiplexed_seqs, type: File}\n",
      "outputs: {}\n",
      "steps:\n",
      "  denoise:\n",
      "    id: denoise\n",
      "    out: [representative_sequences, table, denoising_stats]\n",
      "    run: /Users/dcl9/Code/yaml/bespin-cwl/tools/qiime2/dada2-denoise-single.cwl\n",
      "\n"
     ]
    }
   ],
   "source": [
    "dada2_workflow.export()"
   ]
  },
  {
   "cell_type": "code",
   "execution_count": 64,
   "metadata": {},
   "outputs": [
    {
     "name": "stderr",
     "output_type": "stream",
     "text": [
      "WARNING:cwlgen:CWL version None is not recognized as a valid version.\n",
      "WARNING:cwlgen:CWL version is set up to v1.0.\n",
      "WARNING:cwlgen.import_cwl:arguments content is not processed (yet).\n",
      "WARNING:cwlgen:CWL version None is not recognized as a valid version.\n",
      "WARNING:cwlgen:CWL version is set up to v1.0.\n"
     ]
    },
    {
     "name": "stdout",
     "output_type": "stream",
     "text": [
      "#!/usr/bin/env cwl-runner\n",
      "\n",
      "class: Workflow\n",
      "cwlVersion: v1.0\n",
      "inputs:\n",
      "  barcodes: {id: barcodes, type: File}\n",
      "  sequences: {id: sequences, type: File}\n",
      "outputs:\n",
      "  make_sequences_artifact_sequences_artifact: {id: make_sequences_artifact_sequences_artifact,\n",
      "    outputSource: make_sequences_artifact/sequences_artifact, type: File}\n",
      "steps:\n",
      "  make_import_directory:\n",
      "    id: make_import_directory\n",
      "    in: {barcodes: barcodes, sequences: sequences}\n",
      "    out: [dir]\n",
      "    run: /Users/dcl9/Code/yaml/bespin-cwl/tools/qiime2/EMPSingleEndSequences-directory.cwl\n",
      "  make_sequences_artifact:\n",
      "    id: make_sequences_artifact\n",
      "    in: {input_path: make_import_directory/dir}\n",
      "    out: [sequences_artifact]\n",
      "    run: /Users/dcl9/Code/yaml/bespin-cwl/tools/qiime2/tools-import.cwl\n",
      "\n"
     ]
    }
   ],
   "source": [
    "# Now instead trying the qiime2-01-import-data.cwl\n",
    "from cwlgen.import_cwl import parse_cwl\n",
    "from cwlgen import File, Workflow\n",
    "from cwlgen.workflow import InputParameter\n",
    "\n",
    "mkdir_file = '/Users/dcl9/Code/yaml/bespin-cwl/tools/qiime2/EMPSingleEndSequences-directory.cwl'\n",
    "import_file = '/Users/dcl9/Code/yaml/bespin-cwl/tools/qiime2/tools-import.cwl'\n",
    "\n",
    "mkdir_tool = parse_cwl(mkdir_file)\n",
    "import_tool = parse_cwl(import_file)\n",
    "\n",
    "\n",
    "w = Workflow()\n",
    "sequences = File('sequences')\n",
    "barcodes = File('barcodes')\n",
    "\n",
    "# Add steps\n",
    "step1 = w.add('make_import_directory', mkdir_tool, {\n",
    "    'sequences': sequences, \n",
    "    'barcodes': barcodes,\n",
    "})\n",
    "step2 = w.add('make_sequences_artifact', import_tool, {\n",
    "    'input_path': step1['dir'], \n",
    "    'type': InputParameter('type', param_type='int'),\n",
    "})\n",
    "step2['sequences_artifact'].store()\n",
    "\n",
    "w.export()\n"
   ]
  },
  {
   "cell_type": "code",
   "execution_count": null,
   "metadata": {},
   "outputs": [],
   "source": []
  }
 ],
 "metadata": {
  "kernelspec": {
   "display_name": "Python 3",
   "language": "python",
   "name": "python3"
  },
  "language_info": {
   "codemirror_mode": {
    "name": "ipython",
    "version": 3
   },
   "file_extension": ".py",
   "mimetype": "text/x-python",
   "name": "python",
   "nbconvert_exporter": "python",
   "pygments_lexer": "ipython3",
   "version": "3.6.4"
  }
 },
 "nbformat": 4,
 "nbformat_minor": 2
}
